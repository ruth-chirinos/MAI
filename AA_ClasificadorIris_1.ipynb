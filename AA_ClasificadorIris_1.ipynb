{
  "nbformat": 4,
  "nbformat_minor": 0,
  "metadata": {
    "kernelspec": {
      "display_name": "Python 3",
      "language": "python",
      "name": "python3"
    },
    "language_info": {
      "codemirror_mode": {
        "name": "ipython",
        "version": 3
      },
      "file_extension": ".py",
      "mimetype": "text/x-python",
      "name": "python",
      "nbconvert_exporter": "python",
      "pygments_lexer": "ipython3",
      "version": "3.7.6"
    },
    "colab": {
      "name": "AA_ClasificadorIris-1.ipynb",
      "provenance": [],
      "include_colab_link": true
    }
  },
  "cells": [
    {
      "cell_type": "markdown",
      "metadata": {
        "id": "view-in-github",
        "colab_type": "text"
      },
      "source": [
        "<a href=\"https://colab.research.google.com/github/rutyroot/MAI/blob/main/AA_ClasificadorIris_1.ipynb\" target=\"_parent\"><img src=\"https://colab.research.google.com/assets/colab-badge.svg\" alt=\"Open In Colab\"/></a>"
      ]
    },
    {
      "cell_type": "markdown",
      "metadata": {
        "id": "oDW2PdlJPcYO"
      },
      "source": [
        "Cargamos el dataset"
      ]
    },
    {
      "cell_type": "code",
      "metadata": {
        "id": "6uquIK65PcYX"
      },
      "source": [
        "from sklearn.datasets import load_iris"
      ],
      "execution_count": 1,
      "outputs": []
    },
    {
      "cell_type": "markdown",
      "metadata": {
        "id": "k9o36QX8PcYZ"
      },
      "source": [
        "Asignamos el dataset en un objeto, es similar a un diccionario contiene keys y values"
      ]
    },
    {
      "cell_type": "code",
      "metadata": {
        "id": "BGDjUWebPcYZ"
      },
      "source": [
        "iris_dataset = load_iris()"
      ],
      "execution_count": 2,
      "outputs": []
    },
    {
      "cell_type": "markdown",
      "metadata": {
        "id": "AfzGJgddPcYb"
      },
      "source": [
        "DESCR es una descripción del dataset."
      ]
    },
    {
      "cell_type": "code",
      "metadata": {
        "colab": {
          "base_uri": "https://localhost:8080/"
        },
        "id": "4wIRcBz_PcYb",
        "outputId": "8db8fe20-ac16-4da0-dae9-c3da666ff935"
      },
      "source": [
        "print(iris_dataset['DESCR'])"
      ],
      "execution_count": 3,
      "outputs": [
        {
          "output_type": "stream",
          "text": [
            ".. _iris_dataset:\n",
            "\n",
            "Iris plants dataset\n",
            "--------------------\n",
            "\n",
            "**Data Set Characteristics:**\n",
            "\n",
            "    :Number of Instances: 150 (50 in each of three classes)\n",
            "    :Number of Attributes: 4 numeric, predictive attributes and the class\n",
            "    :Attribute Information:\n",
            "        - sepal length in cm\n",
            "        - sepal width in cm\n",
            "        - petal length in cm\n",
            "        - petal width in cm\n",
            "        - class:\n",
            "                - Iris-Setosa\n",
            "                - Iris-Versicolour\n",
            "                - Iris-Virginica\n",
            "                \n",
            "    :Summary Statistics:\n",
            "\n",
            "    ============== ==== ==== ======= ===== ====================\n",
            "                    Min  Max   Mean    SD   Class Correlation\n",
            "    ============== ==== ==== ======= ===== ====================\n",
            "    sepal length:   4.3  7.9   5.84   0.83    0.7826\n",
            "    sepal width:    2.0  4.4   3.05   0.43   -0.4194\n",
            "    petal length:   1.0  6.9   3.76   1.76    0.9490  (high!)\n",
            "    petal width:    0.1  2.5   1.20   0.76    0.9565  (high!)\n",
            "    ============== ==== ==== ======= ===== ====================\n",
            "\n",
            "    :Missing Attribute Values: None\n",
            "    :Class Distribution: 33.3% for each of 3 classes.\n",
            "    :Creator: R.A. Fisher\n",
            "    :Donor: Michael Marshall (MARSHALL%PLU@io.arc.nasa.gov)\n",
            "    :Date: July, 1988\n",
            "\n",
            "The famous Iris database, first used by Sir R.A. Fisher. The dataset is taken\n",
            "from Fisher's paper. Note that it's the same as in R, but not as in the UCI\n",
            "Machine Learning Repository, which has two wrong data points.\n",
            "\n",
            "This is perhaps the best known database to be found in the\n",
            "pattern recognition literature.  Fisher's paper is a classic in the field and\n",
            "is referenced frequently to this day.  (See Duda & Hart, for example.)  The\n",
            "data set contains 3 classes of 50 instances each, where each class refers to a\n",
            "type of iris plant.  One class is linearly separable from the other 2; the\n",
            "latter are NOT linearly separable from each other.\n",
            "\n",
            ".. topic:: References\n",
            "\n",
            "   - Fisher, R.A. \"The use of multiple measurements in taxonomic problems\"\n",
            "     Annual Eugenics, 7, Part II, 179-188 (1936); also in \"Contributions to\n",
            "     Mathematical Statistics\" (John Wiley, NY, 1950).\n",
            "   - Duda, R.O., & Hart, P.E. (1973) Pattern Classification and Scene Analysis.\n",
            "     (Q327.D83) John Wiley & Sons.  ISBN 0-471-22361-1.  See page 218.\n",
            "   - Dasarathy, B.V. (1980) \"Nosing Around the Neighborhood: A New System\n",
            "     Structure and Classification Rule for Recognition in Partially Exposed\n",
            "     Environments\".  IEEE Transactions on Pattern Analysis and Machine\n",
            "     Intelligence, Vol. PAMI-2, No. 1, 67-71.\n",
            "   - Gates, G.W. (1972) \"The Reduced Nearest Neighbor Rule\".  IEEE Transactions\n",
            "     on Information Theory, May 1972, 431-433.\n",
            "   - See also: 1988 MLC Proceedings, 54-64.  Cheeseman et al\"s AUTOCLASS II\n",
            "     conceptual clustering system finds 3 classes in the data.\n",
            "   - Many, many more ...\n"
          ],
          "name": "stdout"
        }
      ]
    },
    {
      "cell_type": "markdown",
      "metadata": {
        "id": "saB0zCdhPcYd"
      },
      "source": [
        "target_names es un array de String que contiene las especies que queremos predecir.\n",
        "features_names es una lista de String que da una descripción de cada característica."
      ]
    },
    {
      "cell_type": "code",
      "metadata": {
        "colab": {
          "base_uri": "https://localhost:8080/"
        },
        "id": "p4OM45WPPcYe",
        "outputId": "e71e91d8-391d-4ed3-c699-370cb8e7df28"
      },
      "source": [
        "print(iris_dataset['target_names'])"
      ],
      "execution_count": 5,
      "outputs": [
        {
          "output_type": "stream",
          "text": [
            "['setosa' 'versicolor' 'virginica']\n"
          ],
          "name": "stdout"
        }
      ]
    },
    {
      "cell_type": "markdown",
      "metadata": {
        "id": "Gf54jVfLPcYf"
      },
      "source": [
        "Los datos están contenidos en los campos target y data.\n",
        "data contiene un NumPy array con la longitud de pétalo y sépalo. Las filas se corresponden con cada flor encontrada y las columnas con los valores"
      ]
    },
    {
      "cell_type": "code",
      "metadata": {
        "colab": {
          "base_uri": "https://localhost:8080/"
        },
        "id": "JTzhferKPcYf",
        "outputId": "dc0f2425-f518-4431-a6f8-0cc6c8751f0b"
      },
      "source": [
        "print(\"Tipo de los Datos:\", type(iris_dataset['data']))"
      ],
      "execution_count": 6,
      "outputs": [
        {
          "output_type": "stream",
          "text": [
            "Tipo de los Datos: <class 'numpy.ndarray'>\n"
          ],
          "name": "stdout"
        }
      ]
    },
    {
      "cell_type": "code",
      "metadata": {
        "colab": {
          "base_uri": "https://localhost:8080/"
        },
        "id": "vPiySCraPcYg",
        "outputId": "d1f63ce9-6b3e-462a-ae03-f74597a5e779"
      },
      "source": [
        "print(\"Forma de los datos:\", iris_dataset['data'].shape)"
      ],
      "execution_count": 7,
      "outputs": [
        {
          "output_type": "stream",
          "text": [
            "Forma de los datos: (150, 4)\n"
          ],
          "name": "stdout"
        }
      ]
    },
    {
      "cell_type": "code",
      "metadata": {
        "colab": {
          "base_uri": "https://localhost:8080/"
        },
        "id": "5J9XKkClPcYh",
        "outputId": "19ebd823-2132-4ad2-aeaf-887acb9481fd"
      },
      "source": [
        "print(\"Primeras filas de datos: \", iris_dataset['data'][:5])"
      ],
      "execution_count": 8,
      "outputs": [
        {
          "output_type": "stream",
          "text": [
            "Primeras filas de datos:  [[5.1 3.5 1.4 0.2]\n",
            " [4.9 3.  1.4 0.2]\n",
            " [4.7 3.2 1.3 0.2]\n",
            " [4.6 3.1 1.5 0.2]\n",
            " [5.  3.6 1.4 0.2]]\n"
          ],
          "name": "stdout"
        }
      ]
    },
    {
      "cell_type": "markdown",
      "metadata": {
        "id": "OK0flNpJPcYi"
      },
      "source": [
        "target es un NumPy array que contiene las especies conocidas de cada flor, están codificadas con valores 0 a 2"
      ]
    },
    {
      "cell_type": "code",
      "metadata": {
        "colab": {
          "base_uri": "https://localhost:8080/"
        },
        "id": "8LSp5SQaPcYi",
        "outputId": "e1077812-ddbf-401d-ad6e-2a4102eca7c7"
      },
      "source": [
        "print(\"Datos conocidos: \", iris_dataset['target'])"
      ],
      "execution_count": 9,
      "outputs": [
        {
          "output_type": "stream",
          "text": [
            "Datos conocidos:  [0 0 0 0 0 0 0 0 0 0 0 0 0 0 0 0 0 0 0 0 0 0 0 0 0 0 0 0 0 0 0 0 0 0 0 0 0\n",
            " 0 0 0 0 0 0 0 0 0 0 0 0 0 1 1 1 1 1 1 1 1 1 1 1 1 1 1 1 1 1 1 1 1 1 1 1 1\n",
            " 1 1 1 1 1 1 1 1 1 1 1 1 1 1 1 1 1 1 1 1 1 1 1 1 1 1 2 2 2 2 2 2 2 2 2 2 2\n",
            " 2 2 2 2 2 2 2 2 2 2 2 2 2 2 2 2 2 2 2 2 2 2 2 2 2 2 2 2 2 2 2 2 2 2 2 2 2\n",
            " 2 2]\n"
          ],
          "name": "stdout"
        }
      ]
    },
    {
      "cell_type": "code",
      "metadata": {
        "colab": {
          "base_uri": "https://localhost:8080/"
        },
        "id": "pzkiF4cLPcYj",
        "outputId": "d40b0bb9-5c37-4367-de4d-4d14961c2e15"
      },
      "source": [
        "print(\"Valores de especies: \", iris_dataset['target_names'])"
      ],
      "execution_count": 10,
      "outputs": [
        {
          "output_type": "stream",
          "text": [
            "Valores de especies:  ['setosa' 'versicolor' 'virginica']\n"
          ],
          "name": "stdout"
        }
      ]
    },
    {
      "cell_type": "markdown",
      "metadata": {
        "id": "mTJFe-yKPcYj"
      },
      "source": [
        "Particionamos el dataset en entrenamiento y pruebas"
      ]
    },
    {
      "cell_type": "code",
      "metadata": {
        "id": "CnfILmeaPcYk"
      },
      "source": [
        "from sklearn.model_selection import train_test_split\n",
        "X_train, X_test, y_train, y_test = train_test_split(iris_dataset['data'], iris_dataset['target'], random_state=0)"
      ],
      "execution_count": 11,
      "outputs": []
    },
    {
      "cell_type": "code",
      "metadata": {
        "colab": {
          "base_uri": "https://localhost:8080/"
        },
        "id": "aZZEKOhjPcYk",
        "outputId": "ed60f618-d3f9-4233-dc88-07e06ac67dca"
      },
      "source": [
        "print(\"X train shape:\", X_train.shape)\n",
        "print(\"y train shape:\", y_train.shape)"
      ],
      "execution_count": 12,
      "outputs": [
        {
          "output_type": "stream",
          "text": [
            "X train shape: (112, 4)\n",
            "y train shape: (112,)\n"
          ],
          "name": "stdout"
        }
      ]
    },
    {
      "cell_type": "code",
      "metadata": {
        "colab": {
          "base_uri": "https://localhost:8080/"
        },
        "id": "Alp95i-WPcYl",
        "outputId": "b840651e-b6e0-40d3-eb69-d897b0d1d83d"
      },
      "source": [
        "print(\"X test shape:\", X_test.shape)\n",
        "print(\"y test shape: \", y_test.shape)"
      ],
      "execution_count": 13,
      "outputs": [
        {
          "output_type": "stream",
          "text": [
            "X test shape: (38, 4)\n",
            "y test shape:  (38,)\n"
          ],
          "name": "stdout"
        }
      ]
    },
    {
      "cell_type": "code",
      "metadata": {
        "colab": {
          "base_uri": "https://localhost:8080/"
        },
        "id": "YV-E_rcEPcYl",
        "outputId": "76583f42-6f61-493d-d971-3107b182ab62"
      },
      "source": [
        "print(\"X test:\", X_test)"
      ],
      "execution_count": 14,
      "outputs": [
        {
          "output_type": "stream",
          "text": [
            "X test: [[5.8 2.8 5.1 2.4]\n",
            " [6.  2.2 4.  1. ]\n",
            " [5.5 4.2 1.4 0.2]\n",
            " [7.3 2.9 6.3 1.8]\n",
            " [5.  3.4 1.5 0.2]\n",
            " [6.3 3.3 6.  2.5]\n",
            " [5.  3.5 1.3 0.3]\n",
            " [6.7 3.1 4.7 1.5]\n",
            " [6.8 2.8 4.8 1.4]\n",
            " [6.1 2.8 4.  1.3]\n",
            " [6.1 2.6 5.6 1.4]\n",
            " [6.4 3.2 4.5 1.5]\n",
            " [6.1 2.8 4.7 1.2]\n",
            " [6.5 2.8 4.6 1.5]\n",
            " [6.1 2.9 4.7 1.4]\n",
            " [4.9 3.6 1.4 0.1]\n",
            " [6.  2.9 4.5 1.5]\n",
            " [5.5 2.6 4.4 1.2]\n",
            " [4.8 3.  1.4 0.3]\n",
            " [5.4 3.9 1.3 0.4]\n",
            " [5.6 2.8 4.9 2. ]\n",
            " [5.6 3.  4.5 1.5]\n",
            " [4.8 3.4 1.9 0.2]\n",
            " [4.4 2.9 1.4 0.2]\n",
            " [6.2 2.8 4.8 1.8]\n",
            " [4.6 3.6 1.  0.2]\n",
            " [5.1 3.8 1.9 0.4]\n",
            " [6.2 2.9 4.3 1.3]\n",
            " [5.  2.3 3.3 1. ]\n",
            " [5.  3.4 1.6 0.4]\n",
            " [6.4 3.1 5.5 1.8]\n",
            " [5.4 3.  4.5 1.5]\n",
            " [5.2 3.5 1.5 0.2]\n",
            " [6.1 3.  4.9 1.8]\n",
            " [6.4 2.8 5.6 2.2]\n",
            " [5.2 2.7 3.9 1.4]\n",
            " [5.7 3.8 1.7 0.3]\n",
            " [6.  2.7 5.1 1.6]]\n"
          ],
          "name": "stdout"
        }
      ]
    },
    {
      "cell_type": "markdown",
      "metadata": {
        "id": "_75L8_0_PcYm"
      },
      "source": [
        "Construcción del modelo con k nearest neighbors. Utilizaremos k=1\n",
        "Cargamos la clase de scikit que contiene el algoritmo"
      ]
    },
    {
      "cell_type": "code",
      "metadata": {
        "id": "8LJ3O3LwPcYm"
      },
      "source": [
        "from sklearn.neighbors import KNeighborsClassifier\n",
        "knn = KNeighborsClassifier(n_neighbors=1)"
      ],
      "execution_count": 15,
      "outputs": []
    },
    {
      "cell_type": "markdown",
      "metadata": {
        "id": "ilDr98V5PcYm"
      },
      "source": [
        "El algortimo está encapsulado en el objeto knn.\n",
        "Para construir el modelo con el conjunto de entrenamiento tenemos que llamar a la función fit que empareja datos con etiquetas."
      ]
    },
    {
      "cell_type": "code",
      "metadata": {
        "colab": {
          "base_uri": "https://localhost:8080/"
        },
        "id": "458l4OayPcYn",
        "outputId": "cb2daae3-ed5c-4576-e891-9a3de6ba93db"
      },
      "source": [
        "knn.fit(X_train, y_train)"
      ],
      "execution_count": 16,
      "outputs": [
        {
          "output_type": "execute_result",
          "data": {
            "text/plain": [
              "KNeighborsClassifier(algorithm='auto', leaf_size=30, metric='minkowski',\n",
              "                     metric_params=None, n_jobs=None, n_neighbors=1, p=2,\n",
              "                     weights='uniform')"
            ]
          },
          "metadata": {
            "tags": []
          },
          "execution_count": 16
        }
      ]
    },
    {
      "cell_type": "markdown",
      "metadata": {
        "id": "LT326yyoPcYn"
      },
      "source": [
        "Hacemos predicciones.\n",
        "Utilizamos el modelo con nuevos datos (necesitamos hacerlo bidimensional pq scikit-learn siempre espera datos así)"
      ]
    },
    {
      "cell_type": "code",
      "metadata": {
        "colab": {
          "base_uri": "https://localhost:8080/"
        },
        "id": "KqeYFUEJPcYo",
        "outputId": "ee07295e-6c41-490f-f8b0-ea4b1f5665b9"
      },
      "source": [
        "import numpy as np\n",
        "X_new = np.array([[5, 2.9, 1, 0.2]])\n",
        "print(\"X new shape:\", X_new.shape)"
      ],
      "execution_count": 17,
      "outputs": [
        {
          "output_type": "stream",
          "text": [
            "X new shape: (1, 4)\n"
          ],
          "name": "stdout"
        }
      ]
    },
    {
      "cell_type": "code",
      "metadata": {
        "colab": {
          "base_uri": "https://localhost:8080/"
        },
        "id": "CthfG-r5PcYo",
        "outputId": "eda608dc-fa67-41e6-a69d-393242adf826"
      },
      "source": [
        "prediction = knn.predict(X_new)\n",
        "print(\"Predicción:\", prediction)\n",
        "print(\"Especie predicha:\", iris_dataset['target_names'][prediction])"
      ],
      "execution_count": 18,
      "outputs": [
        {
          "output_type": "stream",
          "text": [
            "Predicción: [0]\n",
            "Especie predicha: ['setosa']\n"
          ],
          "name": "stdout"
        }
      ]
    },
    {
      "cell_type": "markdown",
      "metadata": {
        "id": "49x-u5eOPcYp"
      },
      "source": [
        "Evaluación del modelo"
      ]
    },
    {
      "cell_type": "code",
      "metadata": {
        "colab": {
          "base_uri": "https://localhost:8080/"
        },
        "id": "81UqdWmIPcYp",
        "outputId": "cb9d1520-0b56-48a9-bc67-c7a950541230"
      },
      "source": [
        "y_pred = knn.predict(X_test)\n",
        "print(\"Predicciones para el conjunto de test: \", y_pred)"
      ],
      "execution_count": 19,
      "outputs": [
        {
          "output_type": "stream",
          "text": [
            "Predicciones para el conjunto de test:  [2 1 0 2 0 2 0 1 1 1 2 1 1 1 1 0 1 1 0 0 2 1 0 0 2 0 0 1 1 0 2 1 0 2 2 1 0\n",
            " 2]\n"
          ],
          "name": "stdout"
        }
      ]
    },
    {
      "cell_type": "code",
      "metadata": {
        "colab": {
          "base_uri": "https://localhost:8080/"
        },
        "id": "ocPodwM_PcYp",
        "outputId": "8ff3e7d8-bfb5-447d-a680-5f93bd27a099"
      },
      "source": [
        "print(\"Porcentaje en el test: {:.2f}\".format(np.mean(y_pred == y_test)))\n",
        "print(\"Porcentaje en el test: {:.2f}\".format(knn.score(X_test, y_test)))"
      ],
      "execution_count": 20,
      "outputs": [
        {
          "output_type": "stream",
          "text": [
            "Porcentaje en el test: 0.97\n",
            "Porcentaje en el test: 0.97\n"
          ],
          "name": "stdout"
        }
      ]
    },
    {
      "cell_type": "code",
      "metadata": {
        "id": "1YgCgIJTPcYq"
      },
      "source": [
        ""
      ],
      "execution_count": null,
      "outputs": []
    }
  ]
}